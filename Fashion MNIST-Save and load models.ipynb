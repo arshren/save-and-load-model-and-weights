{
 "cells": [
  {
   "cell_type": "code",
   "execution_count": null,
   "metadata": {},
   "outputs": [],
   "source": [
    "import os\n",
    "import tensorflow as tf\n",
    "import keras\n",
    "# MLP for Pima Indians Dataset Serialize to JSON and HDF5\n",
    "\n",
    "print(tf.version.VERSION)"
   ]
  },
  {
   "cell_type": "code",
   "execution_count": null,
   "metadata": {},
   "outputs": [],
   "source": [
    "#Load the data\n",
    "(train_images, train_labels), (test_images, test_labels) = tf.keras.datasets.fashion_mnist.load_data()"
   ]
  },
  {
   "cell_type": "code",
   "execution_count": null,
   "metadata": {},
   "outputs": [],
   "source": [
    "len(train_images)"
   ]
  },
  {
   "cell_type": "code",
   "execution_count": null,
   "metadata": {},
   "outputs": [],
   "source": [
    "\n",
    "train_labels = train_labels[:1000]\n",
    "test_labels = test_labels[:1000]\n",
    "\n",
    "#Normalize the data\n",
    "train_images = train_images[:1000].astype('float32') / 255\n",
    "test_images = test_images[:1000].astype('float32') / 255\n"
   ]
  },
  {
   "cell_type": "code",
   "execution_count": null,
   "metadata": {},
   "outputs": [],
   "source": [
    "# Reshape the data\n",
    "train_images = train_images.reshape((train_images.shape[0],  28, 28,1))\n",
    "test_images = test_images.reshape((test_images.shape[0],  28, 28,1))"
   ]
  },
  {
   "cell_type": "code",
   "execution_count": null,
   "metadata": {},
   "outputs": [],
   "source": [
    "len(train_images)"
   ]
  },
  {
   "cell_type": "markdown",
   "metadata": {},
   "source": [
    "# Define a simple sequential model"
   ]
  },
  {
   "cell_type": "code",
   "execution_count": null,
   "metadata": {},
   "outputs": [],
   "source": [
    "def create_model():\n",
    "    model = tf.keras.Sequential()\n",
    "    # Must define the input shape in the first layer of the neural network\n",
    "    model.add(tf.keras.layers.Conv2D(filters=64, kernel_size=2, padding='same', activation='relu', input_shape=(28,28,1))) \n",
    "    model.add(tf.keras.layers.MaxPooling2D(pool_size=2))\n",
    "    model.add(tf.keras.layers.Dropout(0.3))\n",
    "    model.add(tf.keras.layers.Conv2D(filters=32, kernel_size=2, padding='same', activation='relu'))\n",
    "    model.add(tf.keras.layers.MaxPooling2D(pool_size=2))\n",
    "    model.add(tf.keras.layers.Dropout(0.3))\n",
    "    model.add(tf.keras.layers.Flatten())\n",
    "    model.add(tf.keras.layers.Dense(256, activation='relu'))\n",
    "    model.add(tf.keras.layers.Dropout(0.5))\n",
    "    model.add(tf.keras.layers.Dense(10, activation='softmax'))\n",
    "    \n",
    "    #Compiling the model\n",
    "    model.compile(loss='sparse_categorical_crossentropy',\n",
    "             optimizer='adam',\n",
    "             metrics=['accuracy'])\n",
    "    \n",
    "    return model"
   ]
  },
  {
   "cell_type": "code",
   "execution_count": null,
   "metadata": {},
   "outputs": [],
   "source": []
  },
  {
   "cell_type": "code",
   "execution_count": null,
   "metadata": {},
   "outputs": [],
   "source": [
    "# Create a basic model instance\n",
    "model = create_model()"
   ]
  },
  {
   "cell_type": "code",
   "execution_count": null,
   "metadata": {},
   "outputs": [],
   "source": [
    "model.compile(loss='sparse_categorical_crossentropy',\n",
    "             optimizer='adam',\n",
    "             metrics=['accuracy'])"
   ]
  },
  {
   "cell_type": "code",
   "execution_count": null,
   "metadata": {},
   "outputs": [],
   "source": [
    "# Take a look at the model summary\n",
    "model.summary()"
   ]
  },
  {
   "cell_type": "code",
   "execution_count": null,
   "metadata": {},
   "outputs": [],
   "source": [
    "model.fit(train_images, \n",
    "          train_labels,  \n",
    "          batch_size=64,\n",
    "          epochs=100\n",
    "          ,\n",
    "          validation_data=(test_images,test_labels))"
   ]
  },
  {
   "cell_type": "code",
   "execution_count": null,
   "metadata": {},
   "outputs": [],
   "source": [
    "loss,acc = model.evaluate(test_images,  test_labels, verbose=2)"
   ]
  },
  {
   "cell_type": "code",
   "execution_count": null,
   "metadata": {},
   "outputs": [],
   "source": [
    "from keras.models import model_from_json"
   ]
  },
  {
   "cell_type": "code",
   "execution_count": null,
   "metadata": {},
   "outputs": [],
   "source": [
    "# serialize model to json\n",
    "json_model = model.to_json()\n",
    "#json_model"
   ]
  },
  {
   "cell_type": "code",
   "execution_count": null,
   "metadata": {},
   "outputs": [],
   "source": [
    "\n",
    "#save the model architecture to JSON file\n",
    "with open('fashionmnist_model.json', 'w') as json_file:\n",
    "    json_file.write(json_model)\n"
   ]
  },
  {
   "cell_type": "code",
   "execution_count": null,
   "metadata": {},
   "outputs": [],
   "source": []
  },
  {
   "cell_type": "code",
   "execution_count": null,
   "metadata": {},
   "outputs": [],
   "source": [
    "#saving the weights of the model\n",
    "model.save_weights('FashionMNIST_weights.h5')"
   ]
  },
  {
   "cell_type": "code",
   "execution_count": null,
   "metadata": {},
   "outputs": [],
   "source": [
    "\n",
    "from keras.initializers import glorot_uniform\n",
    "\n",
    "# Creating a new model from the saved JSON file\n",
    "# reda the model from the JSOn file\n",
    "with open('fashionmnist_model.json', 'r') as json_file:\n",
    "    json_savedModel= json_file.read()\n",
    "#json_savedModel\n",
    "#load the model architecture \n",
    "model_j = tf.keras.models.model_from_json(json_savedModel)\n",
    "model_j.summary()"
   ]
  },
  {
   "cell_type": "code",
   "execution_count": null,
   "metadata": {},
   "outputs": [],
   "source": [
    "model_j.load_weights('FashionMNIST_weights.h5')"
   ]
  },
  {
   "cell_type": "code",
   "execution_count": null,
   "metadata": {},
   "outputs": [],
   "source": [
    "#Compiling the model\n",
    "model_j.compile(loss='sparse_categorical_crossentropy',\n",
    "         optimizer='SGD',\n",
    "         metrics=['accuracy'])"
   ]
  },
  {
   "cell_type": "code",
   "execution_count": null,
   "metadata": {},
   "outputs": [],
   "source": [
    "loss,acc = model_j.evaluate(test_images,  test_labels, verbose=2)"
   ]
  },
  {
   "cell_type": "code",
   "execution_count": null,
   "metadata": {},
   "outputs": [],
   "source": [
    "#saving the model to a YAML file\n",
    "yaml_model= model.to_yaml()\n",
    "#yaml_model"
   ]
  },
  {
   "cell_type": "code",
   "execution_count": null,
   "metadata": {},
   "outputs": [],
   "source": [
    "# writing the yaml model to the yaml file\n",
    "with open('fashionmnist_yamlmodel.yaml', 'w') as yaml_file:\n",
    "    yaml_file.write(yaml_model)"
   ]
  },
  {
   "cell_type": "code",
   "execution_count": null,
   "metadata": {},
   "outputs": [],
   "source": [
    "#Read  the model architecture to YAML file\n",
    "with open('fashionmnist_yamlmodel.yaml', 'r') as yaml_file:\n",
    "    yaml_savedModel=yaml_file.read()"
   ]
  },
  {
   "cell_type": "code",
   "execution_count": null,
   "metadata": {},
   "outputs": [],
   "source": [
    "# Load the saved Yaml model\n",
    "from keras.models import model_from_yaml\n",
    "model_y= tf.keras.models.model_from_yaml(yaml_savedModel)\n",
    "model_y.summary()"
   ]
  },
  {
   "cell_type": "code",
   "execution_count": null,
   "metadata": {},
   "outputs": [],
   "source": [
    "#saving the smodel's architecture, weights, and training configuration in a single file/folder. \n",
    "#This allows you to export a model so it can be used without access to the original Python code\n",
    "#Since the optimizer-state is recovered, you can resume training from exactly where you left off.\n",
    "model.save('fashionmnist.h5')"
   ]
  },
  {
   "cell_type": "code",
   "execution_count": null,
   "metadata": {},
   "outputs": [],
   "source": [
    "#loading the model from the Yaml file"
   ]
  },
  {
   "cell_type": "code",
   "execution_count": null,
   "metadata": {},
   "outputs": [],
   "source": [
    "# loading the model from the H5 file\n",
    "model_h5 = tf.keras.models.load_model('fashionmnist.h5')\n",
    "model_h5.summary()"
   ]
  },
  {
   "cell_type": "code",
   "execution_count": null,
   "metadata": {},
   "outputs": [],
   "source": [
    "loss,acc = model_h5.evaluate(test_images,  test_labels, verbose=2)"
   ]
  },
  {
   "cell_type": "code",
   "execution_count": 12,
   "metadata": {},
   "outputs": [],
   "source": [
    "def create_model():\n",
    "    model = tf.keras.Sequential()\n",
    "    # Must define the input shape in the first layer of the neural network\n",
    "    model.add(tf.keras.layers.Conv2D(filters=64, kernel_size=2, padding='same', activation='relu', input_shape=(28,28,1))) \n",
    "    model.add(tf.keras.layers.MaxPooling2D(pool_size=2))\n",
    "    model.add(tf.keras.layers.Dropout(0.3))\n",
    "    model.add(tf.keras.layers.Conv2D(filters=32, kernel_size=2, padding='same', activation='relu'))\n",
    "    model.add(tf.keras.layers.MaxPooling2D(pool_size=2))\n",
    "    model.add(tf.keras.layers.Dropout(0.3))\n",
    "    model.add(tf.keras.layers.Flatten())\n",
    "    model.add(tf.keras.layers.Dense(256, activation='relu'))\n",
    "    model.add(tf.keras.layers.Dropout(0.5))\n",
    "    model.add(tf.keras.layers.Dense(10, activation='softmax'))\n",
    "    \n",
    "    #Compiling the model\n",
    "    model.compile(loss='sparse_categorical_crossentropy',\n",
    "             optimizer='adam',\n",
    "             metrics=['accuracy'])\n",
    "    \n",
    "    return model"
   ]
  },
  {
   "cell_type": "code",
   "execution_count": 13,
   "metadata": {},
   "outputs": [],
   "source": [
    "model_ckpt= create_model()"
   ]
  },
  {
   "cell_type": "code",
   "execution_count": 14,
   "metadata": {},
   "outputs": [],
   "source": [
    "checkpoint_path = \"train_ckpt/cp.ckpt\"\n"
   ]
  },
  {
   "cell_type": "code",
   "execution_count": 15,
   "metadata": {},
   "outputs": [],
   "source": [
    "# Create a callback that saves the model's weights\n",
    "cp_callback = tf.keras.callbacks.ModelCheckpoint(filepath=checkpoint_path,save_best_only=True, save_weights_only=True, verbose=1)"
   ]
  },
  {
   "cell_type": "code",
   "execution_count": 16,
   "metadata": {},
   "outputs": [
    {
     "name": "stdout",
     "output_type": "stream",
     "text": [
      "Train on 1000 samples, validate on 1000 samples\n",
      "Epoch 1/10\n",
      " 960/1000 [===========================>..] - ETA: 0s - loss: 1.9825 - acc: 0.2708\n",
      "Epoch 00001: val_loss improved from inf to 1.38169, saving model to train_ckpt/cp.ckpt\n",
      "1000/1000 [==============================] - 3s 3ms/sample - loss: 1.9589 - acc: 0.2770 - val_loss: 1.3817 - val_acc: 0.5780\n",
      "Epoch 2/10\n",
      " 960/1000 [===========================>..] - ETA: 0s - loss: 1.3116 - acc: 0.5115\n",
      "Epoch 00002: val_loss improved from 1.38169 to 1.02368, saving model to train_ckpt/cp.ckpt\n",
      "1000/1000 [==============================] - 3s 3ms/sample - loss: 1.3027 - acc: 0.5150 - val_loss: 1.0237 - val_acc: 0.6320\n",
      "Epoch 3/10\n",
      " 960/1000 [===========================>..] - ETA: 0s - loss: 1.0952 - acc: 0.5740\n",
      "Epoch 00003: val_loss improved from 1.02368 to 0.90785, saving model to train_ckpt/cp.ckpt\n",
      "1000/1000 [==============================] - 2s 2ms/sample - loss: 1.0864 - acc: 0.5800 - val_loss: 0.9078 - val_acc: 0.6520\n",
      "Epoch 4/10\n",
      " 960/1000 [===========================>..] - ETA: 0s - loss: 0.9411 - acc: 0.6375\n",
      "Epoch 00004: val_loss improved from 0.90785 to 0.83137, saving model to train_ckpt/cp.ckpt\n",
      "1000/1000 [==============================] - 3s 3ms/sample - loss: 0.9495 - acc: 0.6330 - val_loss: 0.8314 - val_acc: 0.6660\n",
      "Epoch 5/10\n",
      " 960/1000 [===========================>..] - ETA: 0s - loss: 0.8569 - acc: 0.6760\n",
      "Epoch 00005: val_loss improved from 0.83137 to 0.76013, saving model to train_ckpt/cp.ckpt\n",
      "1000/1000 [==============================] - 2s 2ms/sample - loss: 0.8554 - acc: 0.6770 - val_loss: 0.7601 - val_acc: 0.7340\n",
      "Epoch 6/10\n",
      " 960/1000 [===========================>..] - ETA: 0s - loss: 0.8128 - acc: 0.6844\n",
      "Epoch 00006: val_loss improved from 0.76013 to 0.70164, saving model to train_ckpt/cp.ckpt\n",
      "1000/1000 [==============================] - 2s 2ms/sample - loss: 0.8012 - acc: 0.6890 - val_loss: 0.7016 - val_acc: 0.7420\n",
      "Epoch 7/10\n",
      " 960/1000 [===========================>..] - ETA: 0s - loss: 0.7553 - acc: 0.7354\n",
      "Epoch 00007: val_loss did not improve from 0.70164\n",
      "1000/1000 [==============================] - 2s 2ms/sample - loss: 0.7616 - acc: 0.7330 - val_loss: 0.7135 - val_acc: 0.7230\n",
      "Epoch 8/10\n",
      " 960/1000 [===========================>..] - ETA: 0s - loss: 0.6768 - acc: 0.7531\n",
      "Epoch 00008: val_loss improved from 0.70164 to 0.64220, saving model to train_ckpt/cp.ckpt\n",
      "1000/1000 [==============================] - 2s 2ms/sample - loss: 0.6779 - acc: 0.7550 - val_loss: 0.6422 - val_acc: 0.7650\n",
      "Epoch 9/10\n",
      " 960/1000 [===========================>..] - ETA: 0s - loss: 0.6354 - acc: 0.7646\n",
      "Epoch 00009: val_loss improved from 0.64220 to 0.61243, saving model to train_ckpt/cp.ckpt\n",
      "1000/1000 [==============================] - 2s 2ms/sample - loss: 0.6358 - acc: 0.7620 - val_loss: 0.6124 - val_acc: 0.7610\n",
      "Epoch 10/10\n",
      " 960/1000 [===========================>..] - ETA: 0s - loss: 0.6265 - acc: 0.7771\n",
      "Epoch 00010: val_loss did not improve from 0.61243\n",
      "1000/1000 [==============================] - 2s 2ms/sample - loss: 0.6260 - acc: 0.7770 - val_loss: 0.6148 - val_acc: 0.7800\n"
     ]
    },
    {
     "data": {
      "text/plain": [
       "<tensorflow.python.keras.callbacks.History at 0x242d22e7400>"
      ]
     },
     "execution_count": 16,
     "metadata": {},
     "output_type": "execute_result"
    }
   ],
   "source": [
    "# Train the model with the new callback\n",
    "model_ckpt.fit(train_images, \n",
    "          train_labels,  \n",
    "          batch_size=64,\n",
    "          epochs=10,\n",
    "          validation_data=(test_images,test_labels),\n",
    "          callbacks=[cp_callback])  # Pass callback to training"
   ]
  },
  {
   "cell_type": "code",
   "execution_count": 17,
   "metadata": {},
   "outputs": [
    {
     "name": "stdout",
     "output_type": "stream",
     "text": [
      "1000/1000 - 0s - loss: 0.6148 - acc: 0.7800\n"
     ]
    }
   ],
   "source": [
    "loss,acc = model_ckpt.evaluate(test_images,  test_labels, verbose=2)"
   ]
  },
  {
   "cell_type": "code",
   "execution_count": 18,
   "metadata": {},
   "outputs": [],
   "source": [
    "# Create a basic model instance\n",
    "model_ckpt2 = create_model()"
   ]
  },
  {
   "cell_type": "code",
   "execution_count": 19,
   "metadata": {},
   "outputs": [
    {
     "data": {
      "text/plain": [
       "<tensorflow.python.training.tracking.util.CheckpointLoadStatus at 0x242d295eb70>"
      ]
     },
     "execution_count": 19,
     "metadata": {},
     "output_type": "execute_result"
    }
   ],
   "source": [
    "model_ckpt2.load_weights(checkpoint_path)"
   ]
  },
  {
   "cell_type": "code",
   "execution_count": 20,
   "metadata": {},
   "outputs": [
    {
     "name": "stdout",
     "output_type": "stream",
     "text": [
      "1000/1000 - 1s - loss: 0.6124 - acc: 0.7610\n",
      "Restored model, accuracy: 76.10%\n"
     ]
    }
   ],
   "source": [
    "loss,acc = model_ckpt2.evaluate(test_images,  test_labels, verbose=2)\n",
    "print(\"Restored model, accuracy: {:5.2f}%\".format(100*acc))"
   ]
  },
  {
   "cell_type": "code",
   "execution_count": 21,
   "metadata": {},
   "outputs": [
    {
     "name": "stdout",
     "output_type": "stream",
     "text": [
      "1000/1000 - 0s - loss: 0.6124 - acc: 0.7610\n",
      "Restored model, accuracy: 76.10%\n"
     ]
    }
   ],
   "source": [
    "loss,acc = model_ckpt2.evaluate(test_images,  test_labels, verbose=2)\n",
    "print(\"Restored model, accuracy: {:5.2f}%\".format(100*acc))"
   ]
  },
  {
   "cell_type": "code",
   "execution_count": 22,
   "metadata": {},
   "outputs": [
    {
     "name": "stdout",
     "output_type": "stream",
     "text": [
      "Train on 1000 samples, validate on 1000 samples\n",
      "Epoch 1/10\n",
      " 960/1000 [===========================>..] - ETA: 0s - loss: 0.5791 - acc: 0.7927\n",
      "Epoch 00001: val_loss improved from 0.61243 to 0.61077, saving model to train_ckpt/cp.ckpt\n",
      "1000/1000 [==============================] - 3s 3ms/sample - loss: 0.5883 - acc: 0.7900 - val_loss: 0.6108 - val_acc: 0.7710\n",
      "Epoch 2/10\n",
      " 960/1000 [===========================>..] - ETA: 0s - loss: 0.5698 - acc: 0.7969\n",
      "Epoch 00002: val_loss did not improve from 0.61077\n",
      "1000/1000 [==============================] - 2s 2ms/sample - loss: 0.5755 - acc: 0.7940 - val_loss: 0.6168 - val_acc: 0.7730\n",
      "Epoch 3/10\n",
      " 960/1000 [===========================>..] - ETA: 0s - loss: 0.5573 - acc: 0.8021\n",
      "Epoch 00003: val_loss improved from 0.61077 to 0.60367, saving model to train_ckpt/cp.ckpt\n",
      "1000/1000 [==============================] - 2s 2ms/sample - loss: 0.5532 - acc: 0.8050 - val_loss: 0.6037 - val_acc: 0.7800\n",
      "Epoch 4/10\n",
      " 960/1000 [===========================>..] - ETA: 0s - loss: 0.5367 - acc: 0.8073\n",
      "Epoch 00004: val_loss improved from 0.60367 to 0.60065, saving model to train_ckpt/cp.ckpt\n",
      "1000/1000 [==============================] - 3s 3ms/sample - loss: 0.5351 - acc: 0.8070 - val_loss: 0.6007 - val_acc: 0.7810\n",
      "Epoch 5/10\n",
      " 960/1000 [===========================>..] - ETA: 0s - loss: 0.5308 - acc: 0.8125\n",
      "Epoch 00005: val_loss improved from 0.60065 to 0.58567, saving model to train_ckpt/cp.ckpt\n",
      "1000/1000 [==============================] - 2s 2ms/sample - loss: 0.5291 - acc: 0.8120 - val_loss: 0.5857 - val_acc: 0.7920\n",
      "Epoch 6/10\n",
      " 960/1000 [===========================>..] - ETA: 0s - loss: 0.4894 - acc: 0.8177\n",
      "Epoch 00006: val_loss improved from 0.58567 to 0.55377, saving model to train_ckpt/cp.ckpt\n",
      "1000/1000 [==============================] - 3s 3ms/sample - loss: 0.4921 - acc: 0.8140 - val_loss: 0.5538 - val_acc: 0.8000\n",
      "Epoch 7/10\n",
      " 960/1000 [===========================>..] - ETA: 0s - loss: 0.4908 - acc: 0.8292\n",
      "Epoch 00007: val_loss did not improve from 0.55377\n",
      "1000/1000 [==============================] - 3s 3ms/sample - loss: 0.4873 - acc: 0.8310 - val_loss: 0.5639 - val_acc: 0.7950\n",
      "Epoch 8/10\n",
      " 960/1000 [===========================>..] - ETA: 0s - loss: 0.4573 - acc: 0.8323\n",
      "Epoch 00008: val_loss improved from 0.55377 to 0.53654, saving model to train_ckpt/cp.ckpt\n",
      "1000/1000 [==============================] - 3s 3ms/sample - loss: 0.4577 - acc: 0.8350 - val_loss: 0.5365 - val_acc: 0.8000\n",
      "Epoch 9/10\n",
      " 960/1000 [===========================>..] - ETA: 0s - loss: 0.4664 - acc: 0.8323\n",
      "Epoch 00009: val_loss did not improve from 0.53654\n",
      "1000/1000 [==============================] - 2s 2ms/sample - loss: 0.4661 - acc: 0.8310 - val_loss: 0.5581 - val_acc: 0.7920\n",
      "Epoch 10/10\n",
      " 960/1000 [===========================>..] - ETA: 0s - loss: 0.4300 - acc: 0.8458\n",
      "Epoch 00010: val_loss did not improve from 0.53654\n",
      "1000/1000 [==============================] - 2s 2ms/sample - loss: 0.4306 - acc: 0.8470 - val_loss: 0.5376 - val_acc: 0.8020\n"
     ]
    },
    {
     "data": {
      "text/plain": [
       "<tensorflow.python.keras.callbacks.History at 0x242d2c4c550>"
      ]
     },
     "execution_count": 22,
     "metadata": {},
     "output_type": "execute_result"
    }
   ],
   "source": [
    "# Train the model with the new callback\n",
    "model_ckpt2.fit(train_images, \n",
    "          train_labels,  \n",
    "          batch_size=64,\n",
    "          epochs=10,\n",
    "          validation_data=(test_images,test_labels),\n",
    "          callbacks=[cp_callback])  # Pass callback to training"
   ]
  },
  {
   "cell_type": "code",
   "execution_count": 23,
   "metadata": {},
   "outputs": [
    {
     "name": "stdout",
     "output_type": "stream",
     "text": [
      "1000/1000 - 0s - loss: 0.5376 - acc: 0.8020\n",
      "Restored model, accuracy: 80.20%\n"
     ]
    }
   ],
   "source": [
    "loss,acc = model_ckpt2.evaluate(test_images,  test_labels, verbose=2)\n",
    "print(\"Restored model, accuracy: {:5.2f}%\".format(100*acc))"
   ]
  },
  {
   "cell_type": "code",
   "execution_count": 24,
   "metadata": {},
   "outputs": [],
   "source": [
    "#get the latest checkpoint file\n",
    "checkpoint_dir = os.path.dirname(checkpoint_path)\n",
    "latest = tf.train.latest_checkpoint(checkpoint_dir)"
   ]
  },
  {
   "cell_type": "code",
   "execution_count": 25,
   "metadata": {},
   "outputs": [
    {
     "name": "stdout",
     "output_type": "stream",
     "text": [
      "1000/1000 - 0s - loss: 0.5365 - acc: 0.8000\n",
      "Restored model, accuracy: 80.00%\n"
     ]
    }
   ],
   "source": [
    "#Create a new model instance\n",
    "model_latest_checkpoint = create_model()\n",
    "# Load the previously saved weights\n",
    "model_latest_checkpoint.load_weights(latest)\n",
    "# Re-evaluate the model\n",
    "loss, acc = model_latest_checkpoint.evaluate(test_images,  test_labels, verbose=2)\n",
    "print(\"Restored model, accuracy: {:5.2f}%\".format(100*acc))"
   ]
  },
  {
   "cell_type": "code",
   "execution_count": null,
   "metadata": {},
   "outputs": [],
   "source": []
  },
  {
   "cell_type": "code",
   "execution_count": null,
   "metadata": {},
   "outputs": [],
   "source": []
  },
  {
   "cell_type": "code",
   "execution_count": null,
   "metadata": {},
   "outputs": [],
   "source": [
    "# Include the epoch in the file name (uses `str.format`)\n",
    "checkpoint_path = \"traiinig2/cp-{epoch:04d}.ckpt\"\n",
    "#checkpoint_dir = os.path.dirname(checkpoint_path)"
   ]
  },
  {
   "cell_type": "code",
   "execution_count": null,
   "metadata": {},
   "outputs": [],
   "source": [
    "# Create a callback that saves the model's weights every 5 epochs\n",
    "cp_callback = tf.keras.callbacks.ModelCheckpoint(\n",
    "    filepath=checkpoint_path, \n",
    "    verbose=1, \n",
    "    save_weights_only=True,\n",
    "    save_freq=5)"
   ]
  },
  {
   "cell_type": "code",
   "execution_count": null,
   "metadata": {},
   "outputs": [],
   "source": [
    "# Create a basic model instance\n",
    "model_3 = create_model()"
   ]
  },
  {
   "cell_type": "code",
   "execution_count": null,
   "metadata": {},
   "outputs": [],
   "source": [
    "# Train the model with the new callback\n",
    "model_3.fit(train_images, \n",
    "              train_labels,\n",
    "              epochs=50, \n",
    "              callbacks=[cp_callback],\n",
    "              validation_data=(test_images,test_labels),\n",
    "              verbose=0)"
   ]
  },
  {
   "cell_type": "code",
   "execution_count": null,
   "metadata": {},
   "outputs": [],
   "source": [
    "!dir traiinig2\n"
   ]
  },
  {
   "cell_type": "code",
   "execution_count": null,
   "metadata": {},
   "outputs": [],
   "source": [
    "checkpoint_dir = os.path.dirname(checkpoint_path)\n",
    "latest = tf.train.latest_checkpoint(checkpoint_dir)\n"
   ]
  },
  {
   "cell_type": "code",
   "execution_count": null,
   "metadata": {},
   "outputs": [],
   "source": [
    "# Create a new model instance\n",
    "model_latest_checkpoint = create_model()\n",
    "\n",
    "# Load the previously saved weights\n",
    "model_latest_checkpoint.load_weights(latest)\n",
    "\n",
    "# Re-evaluate the model\n",
    "loss, acc = model_latest_checkpoint.evaluate(test_images,  test_labels, verbose=2)\n",
    "print(\"Restored model, accuracy: {:5.2f}%\".format(100*acc))"
   ]
  },
  {
   "cell_type": "markdown",
   "metadata": {},
   "source": [
    "## https://www.tensorflow.org/tutorials/keras/save_and_load#setup"
   ]
  },
  {
   "cell_type": "code",
   "execution_count": null,
   "metadata": {},
   "outputs": [],
   "source": []
  }
 ],
 "metadata": {
  "kernelspec": {
   "display_name": "Python 3",
   "language": "python",
   "name": "python3"
  }
 },
 "nbformat": 4,
 "nbformat_minor": 2
}
