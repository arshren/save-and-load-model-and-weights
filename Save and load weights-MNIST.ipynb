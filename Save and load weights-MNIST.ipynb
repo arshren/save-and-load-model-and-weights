{
 "cells": [
  {
   "cell_type": "code",
   "execution_count": 1,
   "metadata": {},
   "outputs": [
    {
     "name": "stdout",
     "output_type": "stream",
     "text": [
      "1.14.0\n"
     ]
    }
   ],
   "source": [
    "import os\n",
    "import tensorflow as tf\n",
    "from tensorflow import keras\n",
    "\n",
    "print(tf.version.VERSION)"
   ]
  },
  {
   "cell_type": "code",
   "execution_count": 2,
   "metadata": {},
   "outputs": [],
   "source": [
    "(train_images, train_labels), (test_images, test_labels) = tf.keras.datasets.mnist.load_data()\n"
   ]
  },
  {
   "cell_type": "code",
   "execution_count": 3,
   "metadata": {},
   "outputs": [
    {
     "data": {
      "text/plain": [
       "60000"
      ]
     },
     "execution_count": 3,
     "metadata": {},
     "output_type": "execute_result"
    }
   ],
   "source": [
    "len(train_images)"
   ]
  },
  {
   "cell_type": "code",
   "execution_count": 4,
   "metadata": {},
   "outputs": [],
   "source": [
    "train_labels = train_labels\n",
    "test_labels = test_labels\n",
    "\n",
    "train_images = train_images.reshape(-1, 28 , 28,1) / 255.0\n",
    "test_images = test_images.reshape(-1, 28 , 28,1) / 255.0"
   ]
  },
  {
   "cell_type": "code",
   "execution_count": 5,
   "metadata": {},
   "outputs": [
    {
     "data": {
      "text/plain": [
       "60000"
      ]
     },
     "execution_count": 5,
     "metadata": {},
     "output_type": "execute_result"
    }
   ],
   "source": [
    "len(train_images)"
   ]
  },
  {
   "cell_type": "code",
   "execution_count": 6,
   "metadata": {},
   "outputs": [],
   "source": [
    "# Define a simple sequential model\n",
    "def create_model():\n",
    "  model = tf.keras.models.Sequential([\n",
    "    keras.layers.Dense(512, activation='relu', input_shape=(784,)),\n",
    "    keras.layers.Dropout(0.2),\n",
    "    keras.layers.Dense(10)\n",
    "  ])\n",
    "\n",
    "  model.compile(optimizer='adam', loss= 'sparse_categorical_crossentropy',\n",
    "                metrics=['accuracy'])\n",
    "\n",
    "  return model"
   ]
  },
  {
   "cell_type": "code",
   "execution_count": 7,
   "metadata": {},
   "outputs": [],
   "source": [
    "def create_model():\n",
    "    model = tf.keras.Sequential()\n",
    "    # Must define the input shape in the first layer of the neural network\n",
    "    model.add(tf.keras.layers.Conv2D(filters=64, kernel_size=2, padding='same', activation='relu', input_shape=(28,28,1))) \n",
    "    model.add(tf.keras.layers.MaxPooling2D(pool_size=2))\n",
    "    model.add(tf.keras.layers.Dropout(0.3))\n",
    "    model.add(tf.keras.layers.Conv2D(filters=32, kernel_size=2, padding='same', activation='relu'))\n",
    "    model.add(tf.keras.layers.MaxPooling2D(pool_size=2))\n",
    "    model.add(tf.keras.layers.Dropout(0.3))\n",
    "    model.add(tf.keras.layers.Flatten())\n",
    "    model.add(tf.keras.layers.Dense(256, activation='relu'))\n",
    "    model.add(tf.keras.layers.Dropout(0.5))\n",
    "    model.add(tf.keras.layers.Dense(10, activation='softmax'))\n",
    "    \n",
    "    model.compile(loss='sparse_categorical_crossentropy',\n",
    "             optimizer='adam',\n",
    "             metrics=['accuracy'] )\n",
    "    return model"
   ]
  },
  {
   "cell_type": "code",
   "execution_count": 8,
   "metadata": {},
   "outputs": [
    {
     "name": "stderr",
     "output_type": "stream",
     "text": [
      "WARNING: Logging before flag parsing goes to stderr.\n",
      "W0220 09:50:31.640251 118272 deprecation.py:506] From C:\\Users\\khandelwalr\\AppData\\Local\\Continuum\\anaconda3\\lib\\site-packages\\tensorflow\\python\\ops\\init_ops.py:1251: calling VarianceScaling.__init__ (from tensorflow.python.ops.init_ops) with dtype is deprecated and will be removed in a future version.\n",
      "Instructions for updating:\n",
      "Call initializer instance with the dtype argument instead of passing it to the constructor\n"
     ]
    }
   ],
   "source": [
    "# Create a basic model instance\n",
    "model = create_model()"
   ]
  },
  {
   "cell_type": "code",
   "execution_count": 9,
   "metadata": {},
   "outputs": [
    {
     "name": "stdout",
     "output_type": "stream",
     "text": [
      "Model: \"sequential\"\n",
      "_________________________________________________________________\n",
      "Layer (type)                 Output Shape              Param #   \n",
      "=================================================================\n",
      "conv2d (Conv2D)              (None, 28, 28, 64)        320       \n",
      "_________________________________________________________________\n",
      "max_pooling2d (MaxPooling2D) (None, 14, 14, 64)        0         \n",
      "_________________________________________________________________\n",
      "dropout (Dropout)            (None, 14, 14, 64)        0         \n",
      "_________________________________________________________________\n",
      "conv2d_1 (Conv2D)            (None, 14, 14, 32)        8224      \n",
      "_________________________________________________________________\n",
      "max_pooling2d_1 (MaxPooling2 (None, 7, 7, 32)          0         \n",
      "_________________________________________________________________\n",
      "dropout_1 (Dropout)          (None, 7, 7, 32)          0         \n",
      "_________________________________________________________________\n",
      "flatten (Flatten)            (None, 1568)              0         \n",
      "_________________________________________________________________\n",
      "dense (Dense)                (None, 256)               401664    \n",
      "_________________________________________________________________\n",
      "dropout_2 (Dropout)          (None, 256)               0         \n",
      "_________________________________________________________________\n",
      "dense_1 (Dense)              (None, 10)                2570      \n",
      "=================================================================\n",
      "Total params: 412,778\n",
      "Trainable params: 412,778\n",
      "Non-trainable params: 0\n",
      "_________________________________________________________________\n"
     ]
    }
   ],
   "source": [
    "# Display the model's architecture\n",
    "model.summary()"
   ]
  },
  {
   "cell_type": "code",
   "execution_count": 10,
   "metadata": {},
   "outputs": [],
   "source": [
    "checkpoint_path = \"training1/cp.ckpt\"\n",
    "#"
   ]
  },
  {
   "cell_type": "code",
   "execution_count": 11,
   "metadata": {},
   "outputs": [],
   "source": [
    "# Create a callback that saves the model's weights\n",
    "cp_callback = tf.keras.callbacks.ModelCheckpoint(filepath=checkpoint_path,\n",
    "                                                 save_weights_only=True,\n",
    "                                                 verbose=1)"
   ]
  },
  {
   "cell_type": "code",
   "execution_count": 12,
   "metadata": {},
   "outputs": [
    {
     "name": "stdout",
     "output_type": "stream",
     "text": [
      "Train on 60000 samples, validate on 10000 samples\n",
      "Epoch 1/100\n",
      "59968/60000 [============================>.] - ETA: 0s - loss: 0.3114 - acc: 0.9008\n",
      "Epoch 00001: saving model to training1/cp.ckpt\n",
      "60000/60000 [==============================] - 67s 1ms/sample - loss: 0.3113 - acc: 0.9009 - val_loss: 0.0709 - val_acc: 0.9765\n",
      "Epoch 2/100\n",
      "59968/60000 [============================>.] - ETA: 0s - loss: 0.1193 - acc: 0.9636\n",
      "Epoch 00002: saving model to training1/cp.ckpt\n",
      "60000/60000 [==============================] - 66s 1ms/sample - loss: 0.1193 - acc: 0.9637 - val_loss: 0.0460 - val_acc: 0.9853\n",
      "Epoch 3/100\n",
      "59968/60000 [============================>.] - ETA: 0s - loss: 0.0909 - acc: 0.9717\n",
      "Epoch 00003: saving model to training1/cp.ckpt\n",
      "60000/60000 [==============================] - 67s 1ms/sample - loss: 0.0909 - acc: 0.9717 - val_loss: 0.0387 - val_acc: 0.9879\n",
      "Epoch 4/100\n",
      "59968/60000 [============================>.] - ETA: 0s - loss: 0.0781 - acc: 0.9756\n",
      "Epoch 00004: saving model to training1/cp.ckpt\n",
      "60000/60000 [==============================] - 67s 1ms/sample - loss: 0.0781 - acc: 0.9756 - val_loss: 0.0371 - val_acc: 0.9876\n",
      "Epoch 5/100\n",
      "59968/60000 [============================>.] - ETA: 0s - loss: 0.0675 - acc: 0.9786\n",
      "Epoch 00005: saving model to training1/cp.ckpt\n",
      "60000/60000 [==============================] - 69s 1ms/sample - loss: 0.0674 - acc: 0.9786 - val_loss: 0.0334 - val_acc: 0.9879\n",
      "Epoch 6/100\n",
      "59968/60000 [============================>.] - ETA: 0s - loss: 0.0638 - acc: 0.9800\n",
      "Epoch 00006: saving model to training1/cp.ckpt\n",
      "60000/60000 [==============================] - 87s 1ms/sample - loss: 0.0638 - acc: 0.9800 - val_loss: 0.0327 - val_acc: 0.9895\n",
      "Epoch 7/100\n",
      "59968/60000 [============================>.] - ETA: 0s - loss: 0.0580 - acc: 0.9818\n",
      "Epoch 00007: saving model to training1/cp.ckpt\n",
      "60000/60000 [==============================] - 70s 1ms/sample - loss: 0.0580 - acc: 0.9818 - val_loss: 0.0336 - val_acc: 0.9884\n",
      "Epoch 8/100\n",
      "59968/60000 [============================>.] - ETA: 0s - loss: 0.0556 - acc: 0.9822\n",
      "Epoch 00008: saving model to training1/cp.ckpt\n",
      "60000/60000 [==============================] - 72s 1ms/sample - loss: 0.0556 - acc: 0.9822 - val_loss: 0.0291 - val_acc: 0.9903\n",
      "Epoch 9/100\n",
      "59968/60000 [============================>.] - ETA: 0s - loss: 0.0493 - acc: 0.9844\n",
      "Epoch 00009: saving model to training1/cp.ckpt\n",
      "60000/60000 [==============================] - 76s 1ms/sample - loss: 0.0493 - acc: 0.9844 - val_loss: 0.0284 - val_acc: 0.9898\n",
      "Epoch 10/100\n",
      "59968/60000 [============================>.] - ETA: 0s - loss: 0.0483 - acc: 0.9849\n",
      "Epoch 00010: saving model to training1/cp.ckpt\n",
      "60000/60000 [==============================] - 72s 1ms/sample - loss: 0.0482 - acc: 0.9850 - val_loss: 0.0279 - val_acc: 0.9918\n",
      "Epoch 11/100\n",
      "59968/60000 [============================>.] - ETA: 0s - loss: 0.0443 - acc: 0.9856\n",
      "Epoch 00011: saving model to training1/cp.ckpt\n",
      "60000/60000 [==============================] - 70s 1ms/sample - loss: 0.0443 - acc: 0.9856 - val_loss: 0.0305 - val_acc: 0.9902\n",
      "Epoch 12/100\n",
      "59968/60000 [============================>.] - ETA: 0s - loss: 0.0436 - acc: 0.9863\n",
      "Epoch 00012: saving model to training1/cp.ckpt\n",
      "60000/60000 [==============================] - 70s 1ms/sample - loss: 0.0436 - acc: 0.9863 - val_loss: 0.0242 - val_acc: 0.9927\n",
      "Epoch 13/100\n",
      "59968/60000 [============================>.] - ETA: 0s - loss: 0.0437 - acc: 0.9862\n",
      "Epoch 00013: saving model to training1/cp.ckpt\n",
      "60000/60000 [==============================] - 68s 1ms/sample - loss: 0.0437 - acc: 0.9862 - val_loss: 0.0242 - val_acc: 0.9918\n",
      "Epoch 14/100\n",
      "59968/60000 [============================>.] - ETA: 0s - loss: 0.0382 - acc: 0.9876\n",
      "Epoch 00014: saving model to training1/cp.ckpt\n",
      "60000/60000 [==============================] - 69s 1ms/sample - loss: 0.0382 - acc: 0.9876 - val_loss: 0.0261 - val_acc: 0.9918\n",
      "Epoch 15/100\n",
      "59968/60000 [============================>.] - ETA: 0s - loss: 0.0398 - acc: 0.9874\n",
      "Epoch 00015: saving model to training1/cp.ckpt\n",
      "60000/60000 [==============================] - 69s 1ms/sample - loss: 0.0398 - acc: 0.9874 - val_loss: 0.0237 - val_acc: 0.9921\n",
      "Epoch 16/100\n",
      "59968/60000 [============================>.] - ETA: 0s - loss: 0.0381 - acc: 0.9877\n",
      "Epoch 00016: saving model to training1/cp.ckpt\n",
      "60000/60000 [==============================] - 68s 1ms/sample - loss: 0.0381 - acc: 0.9877 - val_loss: 0.0258 - val_acc: 0.9913\n",
      "Epoch 17/100\n",
      "59968/60000 [============================>.] - ETA: 0s - loss: 0.0359 - acc: 0.9888\n",
      "Epoch 00017: saving model to training1/cp.ckpt\n",
      "60000/60000 [==============================] - 66s 1ms/sample - loss: 0.0359 - acc: 0.9888 - val_loss: 0.0252 - val_acc: 0.9923\n",
      "Epoch 18/100\n",
      "59968/60000 [============================>.] - ETA: 0s - loss: 0.0369 - acc: 0.9881\n",
      "Epoch 00018: saving model to training1/cp.ckpt\n",
      "60000/60000 [==============================] - 67s 1ms/sample - loss: 0.0371 - acc: 0.9881 - val_loss: 0.0280 - val_acc: 0.9914\n",
      "Epoch 19/100\n",
      "59968/60000 [============================>.] - ETA: 0s - loss: 0.0362 - acc: 0.9881\n",
      "Epoch 00019: saving model to training1/cp.ckpt\n",
      "60000/60000 [==============================] - 71s 1ms/sample - loss: 0.0362 - acc: 0.9881 - val_loss: 0.0295 - val_acc: 0.9895\n",
      "Epoch 20/100\n",
      "59968/60000 [============================>.] - ETA: 0s - loss: 0.0333 - acc: 0.9891- ETA: 1s - loss: 0.03\n",
      "Epoch 00020: saving model to training1/cp.ckpt\n",
      "60000/60000 [==============================] - 70s 1ms/sample - loss: 0.0333 - acc: 0.9891 - val_loss: 0.0263 - val_acc: 0.9913\n",
      "Epoch 21/100\n",
      "59968/60000 [============================>.] - ETA: 0s - loss: 0.0342 - acc: 0.9886\n",
      "Epoch 00021: saving model to training1/cp.ckpt\n",
      "60000/60000 [==============================] - 69s 1ms/sample - loss: 0.0342 - acc: 0.9887 - val_loss: 0.0265 - val_acc: 0.9917\n",
      "Epoch 22/100\n",
      "59968/60000 [============================>.] - ETA: 0s - loss: 0.0318 - acc: 0.9894\n",
      "Epoch 00022: saving model to training1/cp.ckpt\n",
      "60000/60000 [==============================] - 66s 1ms/sample - loss: 0.0317 - acc: 0.9894 - val_loss: 0.0279 - val_acc: 0.9923\n",
      "Epoch 23/100\n",
      "59968/60000 [============================>.] - ETA: 0s - loss: 0.0313 - acc: 0.9901\n",
      "Epoch 00023: saving model to training1/cp.ckpt\n",
      "60000/60000 [==============================] - 72s 1ms/sample - loss: 0.0313 - acc: 0.9901 - val_loss: 0.0273 - val_acc: 0.9912\n",
      "Epoch 24/100\n",
      "59968/60000 [============================>.] - ETA: 0s - loss: 0.0308 - acc: 0.9899\n",
      "Epoch 00024: saving model to training1/cp.ckpt\n",
      "60000/60000 [==============================] - 72s 1ms/sample - loss: 0.0307 - acc: 0.9899 - val_loss: 0.0256 - val_acc: 0.9924\n",
      "Epoch 25/100\n",
      "59968/60000 [============================>.] - ETA: 0s - loss: 0.0286 - acc: 0.9907\n",
      "Epoch 00025: saving model to training1/cp.ckpt\n",
      "60000/60000 [==============================] - 70s 1ms/sample - loss: 0.0286 - acc: 0.9907 - val_loss: 0.0267 - val_acc: 0.9917\n",
      "Epoch 26/100\n",
      "59968/60000 [============================>.] - ETA: 0s - loss: 0.0290 - acc: 0.9902\n",
      "Epoch 00026: saving model to training1/cp.ckpt\n",
      "60000/60000 [==============================] - 70s 1ms/sample - loss: 0.0291 - acc: 0.9902 - val_loss: 0.0266 - val_acc: 0.9923\n",
      "Epoch 27/100\n",
      "59968/60000 [============================>.] - ETA: 0s - loss: 0.0291 - acc: 0.9902\n",
      "Epoch 00027: saving model to training1/cp.ckpt\n",
      "60000/60000 [==============================] - 75s 1ms/sample - loss: 0.0291 - acc: 0.9902 - val_loss: 0.0264 - val_acc: 0.9922\n",
      "Epoch 28/100\n",
      "59968/60000 [============================>.] - ETA: 0s - loss: 0.0295 - acc: 0.9902\n",
      "Epoch 00028: saving model to training1/cp.ckpt\n",
      "60000/60000 [==============================] - 72s 1ms/sample - loss: 0.0294 - acc: 0.9902 - val_loss: 0.0284 - val_acc: 0.9920\n",
      "Epoch 29/100\n",
      "59968/60000 [============================>.] - ETA: 0s - loss: 0.0305 - acc: 0.9898\n",
      "Epoch 00029: saving model to training1/cp.ckpt\n",
      "60000/60000 [==============================] - 69s 1ms/sample - loss: 0.0305 - acc: 0.9898 - val_loss: 0.0247 - val_acc: 0.9922\n",
      "Epoch 30/100\n",
      "59968/60000 [============================>.] - ETA: 0s - loss: 0.0293 - acc: 0.9907\n",
      "Epoch 00030: saving model to training1/cp.ckpt\n",
      "60000/60000 [==============================] - 75s 1ms/sample - loss: 0.0293 - acc: 0.9907 - val_loss: 0.0269 - val_acc: 0.9917\n"
     ]
    },
    {
     "name": "stdout",
     "output_type": "stream",
     "text": [
      "Epoch 31/100\n",
      "59968/60000 [============================>.] - ETA: 0s - loss: 0.0293 - acc: 0.9903\n",
      "Epoch 00031: saving model to training1/cp.ckpt\n",
      "60000/60000 [==============================] - 66s 1ms/sample - loss: 0.0292 - acc: 0.9904 - val_loss: 0.0271 - val_acc: 0.9912\n",
      "Epoch 32/100\n",
      "59968/60000 [============================>.] - ETA: 0s - loss: 0.0288 - acc: 0.9907\n",
      "Epoch 00032: saving model to training1/cp.ckpt\n",
      "60000/60000 [==============================] - 67s 1ms/sample - loss: 0.0288 - acc: 0.9907 - val_loss: 0.0268 - val_acc: 0.9915\n",
      "Epoch 33/100\n",
      "59968/60000 [============================>.] - ETA: 0s - loss: 0.0277 - acc: 0.9909\n",
      "Epoch 00033: saving model to training1/cp.ckpt\n",
      "60000/60000 [==============================] - 69s 1ms/sample - loss: 0.0277 - acc: 0.9909 - val_loss: 0.0247 - val_acc: 0.9925\n",
      "Epoch 34/100\n",
      "59968/60000 [============================>.] - ETA: 0s - loss: 0.0261 - acc: 0.9914\n",
      "Epoch 00034: saving model to training1/cp.ckpt\n",
      "60000/60000 [==============================] - 67s 1ms/sample - loss: 0.0261 - acc: 0.9914 - val_loss: 0.0251 - val_acc: 0.9924\n",
      "Epoch 35/100\n",
      "59968/60000 [============================>.] - ETA: 0s - loss: 0.0259 - acc: 0.9913\n",
      "Epoch 00035: saving model to training1/cp.ckpt\n",
      "60000/60000 [==============================] - 66s 1ms/sample - loss: 0.0259 - acc: 0.9913 - val_loss: 0.0260 - val_acc: 0.9924\n",
      "Epoch 36/100\n",
      "59968/60000 [============================>.] - ETA: 0s - loss: 0.0275 - acc: 0.9908\n",
      "Epoch 00036: saving model to training1/cp.ckpt\n",
      "60000/60000 [==============================] - 65s 1ms/sample - loss: 0.0275 - acc: 0.9908 - val_loss: 0.0246 - val_acc: 0.9919\n",
      "Epoch 37/100\n",
      "59968/60000 [============================>.] - ETA: 0s - loss: 0.0274 - acc: 0.9910\n",
      "Epoch 00037: saving model to training1/cp.ckpt\n",
      "60000/60000 [==============================] - 68s 1ms/sample - loss: 0.0274 - acc: 0.9910 - val_loss: 0.0259 - val_acc: 0.9922\n",
      "Epoch 38/100\n",
      "59968/60000 [============================>.] - ETA: 0s - loss: 0.0264 - acc: 0.9914\n",
      "Epoch 00038: saving model to training1/cp.ckpt\n",
      "60000/60000 [==============================] - 65s 1ms/sample - loss: 0.0264 - acc: 0.9914 - val_loss: 0.0239 - val_acc: 0.9928\n",
      "Epoch 39/100\n",
      "59968/60000 [============================>.] - ETA: 0s - loss: 0.0255 - acc: 0.9916\n",
      "Epoch 00039: saving model to training1/cp.ckpt\n",
      "60000/60000 [==============================] - 67s 1ms/sample - loss: 0.0255 - acc: 0.9916 - val_loss: 0.0250 - val_acc: 0.9928\n",
      "Epoch 40/100\n",
      "59968/60000 [============================>.] - ETA: 0s - loss: 0.0246 - acc: 0.9918- ETA: 1s - los\n",
      "Epoch 00040: saving model to training1/cp.ckpt\n",
      "60000/60000 [==============================] - 66s 1ms/sample - loss: 0.0246 - acc: 0.9918 - val_loss: 0.0243 - val_acc: 0.9924\n",
      "Epoch 41/100\n",
      "59968/60000 [============================>.] - ETA: 0s - loss: 0.0261 - acc: 0.9917\n",
      "Epoch 00041: saving model to training1/cp.ckpt\n",
      "60000/60000 [==============================] - 69s 1ms/sample - loss: 0.0261 - acc: 0.9917 - val_loss: 0.0277 - val_acc: 0.9921\n",
      "Epoch 42/100\n",
      "59968/60000 [============================>.] - ETA: 0s - loss: 0.0242 - acc: 0.9920\n",
      "Epoch 00042: saving model to training1/cp.ckpt\n",
      "60000/60000 [==============================] - 73s 1ms/sample - loss: 0.0242 - acc: 0.9920 - val_loss: 0.0231 - val_acc: 0.9933\n",
      "Epoch 43/100\n",
      "59968/60000 [============================>.] - ETA: 0s - loss: 0.0251 - acc: 0.9920\n",
      "Epoch 00043: saving model to training1/cp.ckpt\n",
      "60000/60000 [==============================] - 66s 1ms/sample - loss: 0.0251 - acc: 0.9920 - val_loss: 0.0244 - val_acc: 0.9929\n",
      "Epoch 44/100\n",
      "59968/60000 [============================>.] - ETA: 0s - loss: 0.0248 - acc: 0.9918\n",
      "Epoch 00044: saving model to training1/cp.ckpt\n",
      "60000/60000 [==============================] - 70s 1ms/sample - loss: 0.0248 - acc: 0.9918 - val_loss: 0.0229 - val_acc: 0.9933\n",
      "Epoch 45/100\n",
      "59968/60000 [============================>.] - ETA: 0s - loss: 0.0232 - acc: 0.9922\n",
      "Epoch 00045: saving model to training1/cp.ckpt\n",
      "60000/60000 [==============================] - 65s 1ms/sample - loss: 0.0232 - acc: 0.9923 - val_loss: 0.0235 - val_acc: 0.9929\n",
      "Epoch 46/100\n",
      "59968/60000 [============================>.] - ETA: 0s - loss: 0.0241 - acc: 0.9920\n",
      "Epoch 00046: saving model to training1/cp.ckpt\n",
      "60000/60000 [==============================] - 65s 1ms/sample - loss: 0.0241 - acc: 0.9920 - val_loss: 0.0246 - val_acc: 0.9926\n",
      "Epoch 47/100\n",
      "59968/60000 [============================>.] - ETA: 0s - loss: 0.0232 - acc: 0.9926- ETA: 2\n",
      "Epoch 00047: saving model to training1/cp.ckpt\n",
      "60000/60000 [==============================] - 67s 1ms/sample - loss: 0.0232 - acc: 0.9926 - val_loss: 0.0280 - val_acc: 0.9915\n",
      "Epoch 48/100\n",
      "59968/60000 [============================>.] - ETA: 0s - loss: 0.0238 - acc: 0.9919\n",
      "Epoch 00048: saving model to training1/cp.ckpt\n",
      "60000/60000 [==============================] - 65s 1ms/sample - loss: 0.0238 - acc: 0.9919 - val_loss: 0.0258 - val_acc: 0.9930\n",
      "Epoch 49/100\n",
      "59968/60000 [============================>.] - ETA: 0s - loss: 0.0230 - acc: 0.9924\n",
      "Epoch 00049: saving model to training1/cp.ckpt\n",
      "60000/60000 [==============================] - 69s 1ms/sample - loss: 0.0230 - acc: 0.9924 - val_loss: 0.0262 - val_acc: 0.9925\n",
      "Epoch 50/100\n",
      "59968/60000 [============================>.] - ETA: 0s - loss: 0.0230 - acc: 0.9925\n",
      "Epoch 00050: saving model to training1/cp.ckpt\n",
      "60000/60000 [==============================] - 68s 1ms/sample - loss: 0.0230 - acc: 0.9925 - val_loss: 0.0286 - val_acc: 0.9916\n",
      "Epoch 51/100\n",
      "59968/60000 [============================>.] - ETA: 0s - loss: 0.0244 - acc: 0.9919\n",
      "Epoch 00051: saving model to training1/cp.ckpt\n",
      "60000/60000 [==============================] - 68s 1ms/sample - loss: 0.0244 - acc: 0.9919 - val_loss: 0.0245 - val_acc: 0.9921\n",
      "Epoch 52/100\n",
      "59968/60000 [============================>.] - ETA: 0s - loss: 0.0216 - acc: 0.9929\n",
      "Epoch 00052: saving model to training1/cp.ckpt\n",
      "60000/60000 [==============================] - 69s 1ms/sample - loss: 0.0215 - acc: 0.9929 - val_loss: 0.0234 - val_acc: 0.9921\n",
      "Epoch 53/100\n",
      "59968/60000 [============================>.] - ETA: 0s - loss: 0.0218 - acc: 0.9929\n",
      "Epoch 00053: saving model to training1/cp.ckpt\n",
      "60000/60000 [==============================] - 70s 1ms/sample - loss: 0.0218 - acc: 0.9929 - val_loss: 0.0263 - val_acc: 0.9926\n",
      "Epoch 54/100\n",
      "59968/60000 [============================>.] - ETA: 0s - loss: 0.0248 - acc: 0.9922\n",
      "Epoch 00054: saving model to training1/cp.ckpt\n",
      "60000/60000 [==============================] - 72s 1ms/sample - loss: 0.0248 - acc: 0.9922 - val_loss: 0.0262 - val_acc: 0.9926\n",
      "Epoch 55/100\n",
      "59968/60000 [============================>.] - ETA: 0s - loss: 0.0234 - acc: 0.9925\n",
      "Epoch 00055: saving model to training1/cp.ckpt\n",
      "60000/60000 [==============================] - 70s 1ms/sample - loss: 0.0235 - acc: 0.9925 - val_loss: 0.0263 - val_acc: 0.9917\n",
      "Epoch 56/100\n",
      "59968/60000 [============================>.] - ETA: 0s - loss: 0.0243 - acc: 0.9922\n",
      "Epoch 00056: saving model to training1/cp.ckpt\n",
      "60000/60000 [==============================] - 68s 1ms/sample - loss: 0.0243 - acc: 0.9922 - val_loss: 0.0269 - val_acc: 0.9926\n",
      "Epoch 57/100\n",
      "59968/60000 [============================>.] - ETA: 0s - loss: 0.0216 - acc: 0.9928\n",
      "Epoch 00057: saving model to training1/cp.ckpt\n",
      "60000/60000 [==============================] - 74s 1ms/sample - loss: 0.0216 - acc: 0.9928 - val_loss: 0.0261 - val_acc: 0.9932\n",
      "Epoch 58/100\n",
      "59968/60000 [============================>.] - ETA: 0s - loss: 0.0217 - acc: 0.9928\n",
      "Epoch 00058: saving model to training1/cp.ckpt\n",
      "60000/60000 [==============================] - 399s 7ms/sample - loss: 0.0217 - acc: 0.9927 - val_loss: 0.0268 - val_acc: 0.9931\n",
      "Epoch 59/100\n",
      "59968/60000 [============================>.] - ETA: 0s - loss: 0.0225 - acc: 0.9928\n",
      "Epoch 00059: saving model to training1/cp.ckpt\n",
      "60000/60000 [==============================] - 77s 1ms/sample - loss: 0.0225 - acc: 0.9928 - val_loss: 0.0293 - val_acc: 0.9930\n",
      "Epoch 60/100\n",
      "59968/60000 [============================>.] - ETA: 0s - loss: 0.0219 - acc: 0.9928\n",
      "Epoch 00060: saving model to training1/cp.ckpt\n",
      "60000/60000 [==============================] - 71s 1ms/sample - loss: 0.0218 - acc: 0.9929 - val_loss: 0.0286 - val_acc: 0.9926\n",
      "Epoch 61/100\n"
     ]
    },
    {
     "name": "stdout",
     "output_type": "stream",
     "text": [
      "59968/60000 [============================>.] - ETA: 0s - loss: 0.0221 - acc: 0.9927\n",
      "Epoch 00061: saving model to training1/cp.ckpt\n",
      "60000/60000 [==============================] - 78s 1ms/sample - loss: 0.0221 - acc: 0.9927 - val_loss: 0.0256 - val_acc: 0.9924\n",
      "Epoch 62/100\n",
      "59968/60000 [============================>.] - ETA: 0s - loss: 0.0222 - acc: 0.9927\n",
      "Epoch 00062: saving model to training1/cp.ckpt\n",
      "60000/60000 [==============================] - 69s 1ms/sample - loss: 0.0222 - acc: 0.9927 - val_loss: 0.0239 - val_acc: 0.9924\n",
      "Epoch 63/100\n",
      "59968/60000 [============================>.] - ETA: 0s - loss: 0.0227 - acc: 0.9930\n",
      "Epoch 00063: saving model to training1/cp.ckpt\n",
      "60000/60000 [==============================] - 68s 1ms/sample - loss: 0.0227 - acc: 0.9930 - val_loss: 0.0241 - val_acc: 0.9929\n",
      "Epoch 64/100\n",
      "59968/60000 [============================>.] - ETA: 0s - loss: 0.0210 - acc: 0.9934\n",
      "Epoch 00064: saving model to training1/cp.ckpt\n",
      "60000/60000 [==============================] - 69s 1ms/sample - loss: 0.0210 - acc: 0.9934 - val_loss: 0.0280 - val_acc: 0.9931\n",
      "Epoch 65/100\n",
      "59968/60000 [============================>.] - ETA: 0s - loss: 0.0217 - acc: 0.9931\n",
      "Epoch 00065: saving model to training1/cp.ckpt\n",
      "60000/60000 [==============================] - 70s 1ms/sample - loss: 0.0217 - acc: 0.9931 - val_loss: 0.0280 - val_acc: 0.9921\n",
      "Epoch 66/100\n",
      "59968/60000 [============================>.] - ETA: 0s - loss: 0.0200 - acc: 0.9934\n",
      "Epoch 00066: saving model to training1/cp.ckpt\n",
      "60000/60000 [==============================] - 70s 1ms/sample - loss: 0.0200 - acc: 0.9934 - val_loss: 0.0289 - val_acc: 0.9931\n",
      "Epoch 67/100\n",
      "59968/60000 [============================>.] - ETA: 0s - loss: 0.0214 - acc: 0.9932- E\n",
      "Epoch 00067: saving model to training1/cp.ckpt\n",
      "60000/60000 [==============================] - 71s 1ms/sample - loss: 0.0214 - acc: 0.9932 - val_loss: 0.0269 - val_acc: 0.9928\n",
      "Epoch 68/100\n",
      "59968/60000 [============================>.] - ETA: 0s - loss: 0.0197 - acc: 0.9937\n",
      "Epoch 00068: saving model to training1/cp.ckpt\n",
      "60000/60000 [==============================] - 71s 1ms/sample - loss: 0.0197 - acc: 0.9937 - val_loss: 0.0261 - val_acc: 0.9930\n",
      "Epoch 69/100\n",
      "59968/60000 [============================>.] - ETA: 0s - loss: 0.0221 - acc: 0.9929\n",
      "Epoch 00069: saving model to training1/cp.ckpt\n",
      "60000/60000 [==============================] - 69s 1ms/sample - loss: 0.0221 - acc: 0.9929 - val_loss: 0.0303 - val_acc: 0.9918\n",
      "Epoch 70/100\n",
      "59968/60000 [============================>.] - ETA: 0s - loss: 0.0210 - acc: 0.9929\n",
      "Epoch 00070: saving model to training1/cp.ckpt\n",
      "60000/60000 [==============================] - 69s 1ms/sample - loss: 0.0210 - acc: 0.9929 - val_loss: 0.0272 - val_acc: 0.9929\n",
      "Epoch 71/100\n",
      "59968/60000 [============================>.] - ETA: 0s - loss: 0.0205 - acc: 0.9935\n",
      "Epoch 00071: saving model to training1/cp.ckpt\n",
      "60000/60000 [==============================] - 67s 1ms/sample - loss: 0.0205 - acc: 0.9935 - val_loss: 0.0284 - val_acc: 0.9923\n",
      "Epoch 72/100\n",
      "59968/60000 [============================>.] - ETA: 0s - loss: 0.0220 - acc: 0.9930\n",
      "Epoch 00072: saving model to training1/cp.ckpt\n",
      "60000/60000 [==============================] - 72s 1ms/sample - loss: 0.0220 - acc: 0.9930 - val_loss: 0.0277 - val_acc: 0.9930\n",
      "Epoch 73/100\n",
      "59968/60000 [============================>.] - ETA: 0s - loss: 0.0199 - acc: 0.9934\n",
      "Epoch 00073: saving model to training1/cp.ckpt\n",
      "60000/60000 [==============================] - 70s 1ms/sample - loss: 0.0199 - acc: 0.9934 - val_loss: 0.0275 - val_acc: 0.9925\n",
      "Epoch 74/100\n",
      "59968/60000 [============================>.] - ETA: 0s - loss: 0.0195 - acc: 0.9934\n",
      "Epoch 00074: saving model to training1/cp.ckpt\n",
      "60000/60000 [==============================] - 74s 1ms/sample - loss: 0.0195 - acc: 0.9934 - val_loss: 0.0272 - val_acc: 0.9931\n",
      "Epoch 75/100\n",
      "59968/60000 [============================>.] - ETA: 0s - loss: 0.0203 - acc: 0.9934\n",
      "Epoch 00075: saving model to training1/cp.ckpt\n",
      "60000/60000 [==============================] - 78s 1ms/sample - loss: 0.0203 - acc: 0.9934 - val_loss: 0.0260 - val_acc: 0.9929\n",
      "Epoch 76/100\n",
      "59968/60000 [============================>.] - ETA: 0s - loss: 0.0193 - acc: 0.9935\n",
      "Epoch 00076: saving model to training1/cp.ckpt\n",
      "60000/60000 [==============================] - 76s 1ms/sample - loss: 0.0193 - acc: 0.9935 - val_loss: 0.0266 - val_acc: 0.9933\n",
      "Epoch 77/100\n",
      "59968/60000 [============================>.] - ETA: 0s - loss: 0.0211 - acc: 0.9933\n",
      "Epoch 00077: saving model to training1/cp.ckpt\n",
      "60000/60000 [==============================] - 87s 1ms/sample - loss: 0.0211 - acc: 0.9933 - val_loss: 0.0243 - val_acc: 0.9932\n",
      "Epoch 78/100\n",
      "59968/60000 [============================>.] - ETA: 0s - loss: 0.0213 - acc: 0.9934\n",
      "Epoch 00078: saving model to training1/cp.ckpt\n",
      "60000/60000 [==============================] - 87s 1ms/sample - loss: 0.0213 - acc: 0.9934 - val_loss: 0.0284 - val_acc: 0.9929\n",
      "Epoch 79/100\n",
      "59968/60000 [============================>.] - ETA: 0s - loss: 0.0200 - acc: 0.9936\n",
      "Epoch 00079: saving model to training1/cp.ckpt\n",
      "60000/60000 [==============================] - 83s 1ms/sample - loss: 0.0200 - acc: 0.9937 - val_loss: 0.0262 - val_acc: 0.9925\n",
      "Epoch 80/100\n",
      "59968/60000 [============================>.] - ETA: 0s - loss: 0.0210 - acc: 0.9933\n",
      "Epoch 00080: saving model to training1/cp.ckpt\n",
      "60000/60000 [==============================] - 79s 1ms/sample - loss: 0.0210 - acc: 0.9933 - val_loss: 0.0298 - val_acc: 0.9927\n",
      "Epoch 81/100\n",
      "59968/60000 [============================>.] - ETA: 0s - loss: 0.0182 - acc: 0.9941\n",
      "Epoch 00081: saving model to training1/cp.ckpt\n",
      "60000/60000 [==============================] - 67s 1ms/sample - loss: 0.0182 - acc: 0.9941 - val_loss: 0.0272 - val_acc: 0.9926\n",
      "Epoch 82/100\n",
      "59968/60000 [============================>.] - ETA: 0s - loss: 0.0196 - acc: 0.9932\n",
      "Epoch 00082: saving model to training1/cp.ckpt\n",
      "60000/60000 [==============================] - 67s 1ms/sample - loss: 0.0196 - acc: 0.9932 - val_loss: 0.0265 - val_acc: 0.9931\n",
      "Epoch 83/100\n",
      "59968/60000 [============================>.] - ETA: 0s - loss: 0.0194 - acc: 0.9937\n",
      "Epoch 00083: saving model to training1/cp.ckpt\n",
      "60000/60000 [==============================] - 75s 1ms/sample - loss: 0.0193 - acc: 0.9937 - val_loss: 0.0275 - val_acc: 0.9931\n",
      "Epoch 84/100\n",
      "59968/60000 [============================>.] - ETA: 0s - loss: 0.0201 - acc: 0.9933\n",
      "Epoch 00084: saving model to training1/cp.ckpt\n",
      "60000/60000 [==============================] - 72s 1ms/sample - loss: 0.0201 - acc: 0.9933 - val_loss: 0.0254 - val_acc: 0.9929\n",
      "Epoch 85/100\n",
      "59968/60000 [============================>.] - ETA: 0s - loss: 0.0203 - acc: 0.9935\n",
      "Epoch 00085: saving model to training1/cp.ckpt\n",
      "60000/60000 [==============================] - 69s 1ms/sample - loss: 0.0203 - acc: 0.9935 - val_loss: 0.0269 - val_acc: 0.9926\n",
      "Epoch 86/100\n",
      "59968/60000 [============================>.] - ETA: 0s - loss: 0.0190 - acc: 0.9939\n",
      "Epoch 00086: saving model to training1/cp.ckpt\n",
      "60000/60000 [==============================] - 1367s 23ms/sample - loss: 0.0190 - acc: 0.9939 - val_loss: 0.0309 - val_acc: 0.9932\n",
      "Epoch 87/100\n",
      "59968/60000 [============================>.] - ETA: 0s - loss: 0.0207 - acc: 0.9935\n",
      "Epoch 00087: saving model to training1/cp.ckpt\n",
      "60000/60000 [==============================] - 66s 1ms/sample - loss: 0.0207 - acc: 0.9935 - val_loss: 0.0322 - val_acc: 0.9925\n",
      "Epoch 88/100\n",
      "59968/60000 [============================>.] - ETA: 0s - loss: 0.0204 - acc: 0.9936\n",
      "Epoch 00088: saving model to training1/cp.ckpt\n",
      "60000/60000 [==============================] - 64s 1ms/sample - loss: 0.0205 - acc: 0.9936 - val_loss: 0.0256 - val_acc: 0.9927\n",
      "Epoch 89/100\n",
      "59968/60000 [============================>.] - ETA: 0s - loss: 0.0199 - acc: 0.9937\n",
      "Epoch 00089: saving model to training1/cp.ckpt\n",
      "60000/60000 [==============================] - 1550s 26ms/sample - loss: 0.0199 - acc: 0.9937 - val_loss: 0.0266 - val_acc: 0.9925\n",
      "Epoch 90/100\n",
      "59968/60000 [============================>.] - ETA: 0s - loss: 0.0176 - acc: 0.9942\n",
      "Epoch 00090: saving model to training1/cp.ckpt\n",
      "60000/60000 [==============================] - 67s 1ms/sample - loss: 0.0176 - acc: 0.9941 - val_loss: 0.0289 - val_acc: 0.9931\n",
      "Epoch 91/100\n"
     ]
    },
    {
     "name": "stdout",
     "output_type": "stream",
     "text": [
      "59968/60000 [============================>.] - ETA: 0s - loss: 0.0181 - acc: 0.9938\n",
      "Epoch 00091: saving model to training1/cp.ckpt\n",
      "60000/60000 [==============================] - 62s 1ms/sample - loss: 0.0181 - acc: 0.9938 - val_loss: 0.0284 - val_acc: 0.9930\n",
      "Epoch 92/100\n",
      "59968/60000 [============================>.] - ETA: 0s - loss: 0.0188 - acc: 0.9942- ETA: 0s - loss: 0.0188 - acc\n",
      "Epoch 00092: saving model to training1/cp.ckpt\n",
      "60000/60000 [==============================] - 63s 1ms/sample - loss: 0.0189 - acc: 0.9942 - val_loss: 0.0287 - val_acc: 0.9915\n",
      "Epoch 93/100\n",
      "59968/60000 [============================>.] - ETA: 0s - loss: 0.0195 - acc: 0.9937\n",
      "Epoch 00093: saving model to training1/cp.ckpt\n",
      "60000/60000 [==============================] - 551s 9ms/sample - loss: 0.0195 - acc: 0.9937 - val_loss: 0.0270 - val_acc: 0.9931\n",
      "Epoch 94/100\n",
      "59968/60000 [============================>.] - ETA: 0s - loss: 0.0175 - acc: 0.9942\n",
      "Epoch 00094: saving model to training1/cp.ckpt\n",
      "60000/60000 [==============================] - 68s 1ms/sample - loss: 0.0175 - acc: 0.9942 - val_loss: 0.0299 - val_acc: 0.9926\n",
      "Epoch 95/100\n",
      "59968/60000 [============================>.] - ETA: 0s - loss: 0.0184 - acc: 0.9937\n",
      "Epoch 00095: saving model to training1/cp.ckpt\n",
      "60000/60000 [==============================] - 71s 1ms/sample - loss: 0.0184 - acc: 0.9937 - val_loss: 0.0277 - val_acc: 0.9929\n",
      "Epoch 96/100\n",
      "59968/60000 [============================>.] - ETA: 0s - loss: 0.0200 - acc: 0.9940\n",
      "Epoch 00096: saving model to training1/cp.ckpt\n",
      "60000/60000 [==============================] - 70s 1ms/sample - loss: 0.0200 - acc: 0.9940 - val_loss: 0.0272 - val_acc: 0.9925\n",
      "Epoch 97/100\n",
      "59968/60000 [============================>.] - ETA: 0s - loss: 0.0193 - acc: 0.9939\n",
      "Epoch 00097: saving model to training1/cp.ckpt\n",
      "60000/60000 [==============================] - 71s 1ms/sample - loss: 0.0193 - acc: 0.9939 - val_loss: 0.0263 - val_acc: 0.9928\n",
      "Epoch 98/100\n",
      "59968/60000 [============================>.] - ETA: 0s - loss: 0.0198 - acc: 0.9937\n",
      "Epoch 00098: saving model to training1/cp.ckpt\n",
      "60000/60000 [==============================] - 73s 1ms/sample - loss: 0.0198 - acc: 0.9937 - val_loss: 0.0274 - val_acc: 0.9928\n",
      "Epoch 99/100\n",
      "59968/60000 [============================>.] - ETA: 0s - loss: 0.0181 - acc: 0.9941\n",
      "Epoch 00099: saving model to training1/cp.ckpt\n",
      "60000/60000 [==============================] - 65s 1ms/sample - loss: 0.0181 - acc: 0.9941 - val_loss: 0.0296 - val_acc: 0.9927\n",
      "Epoch 100/100\n",
      "59968/60000 [============================>.] - ETA: 0s - loss: 0.0206 - acc: 0.9934\n",
      "Epoch 00100: saving model to training1/cp.ckpt\n",
      "60000/60000 [==============================] - 66s 1ms/sample - loss: 0.0206 - acc: 0.9934 - val_loss: 0.0271 - val_acc: 0.9929\n"
     ]
    },
    {
     "data": {
      "text/plain": [
       "<tensorflow.python.keras.callbacks.History at 0x25b92e78c50>"
      ]
     },
     "execution_count": 12,
     "metadata": {},
     "output_type": "execute_result"
    }
   ],
   "source": [
    "# Train the model with the new callback\n",
    "model.fit(train_images, \n",
    "          train_labels,  \n",
    "          batch_size=64,\n",
    "          epochs=100,\n",
    "          validation_data=(test_images,test_labels),\n",
    "          callbacks=[cp_callback])  # Pass callback to training"
   ]
  },
  {
   "cell_type": "code",
   "execution_count": 13,
   "metadata": {},
   "outputs": [
    {
     "name": "stdout",
     "output_type": "stream",
     "text": [
      "10000/10000 - 2s - loss: 0.0271 - acc: 0.9929\n"
     ]
    }
   ],
   "source": [
    "loss,acc = model.evaluate(test_images,  test_labels, verbose=2)"
   ]
  },
  {
   "cell_type": "code",
   "execution_count": 14,
   "metadata": {},
   "outputs": [],
   "source": [
    "# Create a basic model instance\n",
    "model_2 = create_model()"
   ]
  },
  {
   "cell_type": "code",
   "execution_count": 15,
   "metadata": {},
   "outputs": [
    {
     "data": {
      "text/plain": [
       "<tensorflow.python.training.tracking.util.CheckpointLoadStatus at 0x25b94787940>"
      ]
     },
     "execution_count": 15,
     "metadata": {},
     "output_type": "execute_result"
    }
   ],
   "source": [
    "model_2.load_weights(checkpoint_path)"
   ]
  },
  {
   "cell_type": "code",
   "execution_count": 16,
   "metadata": {},
   "outputs": [
    {
     "name": "stdout",
     "output_type": "stream",
     "text": [
      "10000/10000 - 2s - loss: 0.0271 - acc: 0.9929\n",
      "Restored model, accuracy: 99.29%\n"
     ]
    }
   ],
   "source": [
    "loss,acc = model_2.evaluate(test_images,  test_labels, verbose=2)\n",
    "print(\"Restored model, accuracy: {:5.2f}%\".format(100*acc))"
   ]
  },
  {
   "cell_type": "code",
   "execution_count": 17,
   "metadata": {},
   "outputs": [],
   "source": [
    "# Include the epoch in the file name (uses `str.format`)\n",
    "checkpoint_path = \"traiinig2/cp-{epoch:04d}.ckpt\"\n",
    "#checkpoint_dir = os.path.dirname(checkpoint_path)"
   ]
  },
  {
   "cell_type": "code",
   "execution_count": 18,
   "metadata": {},
   "outputs": [
    {
     "name": "stderr",
     "output_type": "stream",
     "text": [
      "W0220 12:47:10.109332 118272 callbacks.py:875] `period` argument is deprecated. Please use `save_freq` to specify the frequency in number of samples seen.\n"
     ]
    }
   ],
   "source": [
    "# Create a callback that saves the model's weights every 5 epochs\n",
    "cp_callback = tf.keras.callbacks.ModelCheckpoint(\n",
    "    filepath=checkpoint_path, \n",
    "    verbose=1, \n",
    "    save_weights_only=True,\n",
    "    period=5)"
   ]
  },
  {
   "cell_type": "code",
   "execution_count": 19,
   "metadata": {},
   "outputs": [],
   "source": [
    "# Create a basic model instance\n",
    "model_3 = create_model()"
   ]
  },
  {
   "cell_type": "code",
   "execution_count": 21,
   "metadata": {},
   "outputs": [
    {
     "name": "stdout",
     "output_type": "stream",
     "text": [
      "\n",
      "Epoch 00003: saving model to traiinig2/cp-0003.ckpt\n",
      "\n",
      "Epoch 00008: saving model to traiinig2/cp-0008.ckpt\n"
     ]
    },
    {
     "data": {
      "text/plain": [
       "<tensorflow.python.keras.callbacks.History at 0x25b93191b38>"
      ]
     },
     "execution_count": 21,
     "metadata": {},
     "output_type": "execute_result"
    }
   ],
   "source": [
    "# Train the model with the new callback\n",
    "model_3.fit(train_images, \n",
    "              train_labels,\n",
    "              epochs=10, \n",
    "              callbacks=[cp_callback],\n",
    "              validation_data=(test_images,test_labels),\n",
    "              verbose=0)"
   ]
  },
  {
   "cell_type": "code",
   "execution_count": 22,
   "metadata": {},
   "outputs": [
    {
     "name": "stdout",
     "output_type": "stream",
     "text": [
      " Volume in drive C is OSDisk\n",
      " Volume Serial Number is 4EF3-5950\n",
      "\n",
      " Directory of C:\\Users\\khandelwalr\\traiinig2\n",
      "\n",
      "02/20/2020  01:19 PM    <DIR>          .\n",
      "02/20/2020  01:19 PM    <DIR>          ..\n",
      "02/20/2020  01:19 PM                81 checkpoint\n",
      "02/20/2020  05:53 AM         4,953,360 cp-0001.ckpt.data-00000-of-00002\n",
      "02/20/2020  05:53 AM             3,769 cp-0001.ckpt.data-00001-of-00002\n",
      "02/20/2020  05:53 AM             2,067 cp-0001.ckpt.index\n",
      "02/20/2020  05:53 AM         4,953,360 cp-0002.ckpt.data-00000-of-00002\n",
      "02/20/2020  05:53 AM             3,769 cp-0002.ckpt.data-00001-of-00002\n",
      "02/20/2020  05:53 AM             2,067 cp-0002.ckpt.index\n",
      "02/20/2020  01:12 PM         4,953,360 cp-0003.ckpt.data-00000-of-00002\n",
      "02/20/2020  01:12 PM             3,769 cp-0003.ckpt.data-00001-of-00002\n",
      "02/20/2020  01:12 PM             2,067 cp-0003.ckpt.index\n",
      "02/20/2020  05:54 AM         4,953,360 cp-0004.ckpt.data-00000-of-00002\n",
      "02/20/2020  05:54 AM             3,769 cp-0004.ckpt.data-00001-of-00002\n",
      "02/20/2020  05:54 AM             2,067 cp-0004.ckpt.index\n",
      "02/20/2020  12:53 PM         4,953,360 cp-0005.ckpt.data-00000-of-00002\n",
      "02/20/2020  12:53 PM             3,769 cp-0005.ckpt.data-00001-of-00002\n",
      "02/20/2020  12:53 PM             2,067 cp-0005.ckpt.index\n",
      "02/20/2020  05:54 AM         4,953,360 cp-0006.ckpt.data-00000-of-00002\n",
      "02/20/2020  05:54 AM             3,769 cp-0006.ckpt.data-00001-of-00002\n",
      "02/20/2020  05:54 AM             2,067 cp-0006.ckpt.index\n",
      "02/20/2020  05:54 AM         4,953,360 cp-0007.ckpt.data-00000-of-00002\n",
      "02/20/2020  05:54 AM             3,769 cp-0007.ckpt.data-00001-of-00002\n",
      "02/20/2020  05:54 AM             2,067 cp-0007.ckpt.index\n",
      "02/20/2020  05:54 AM    <DIR>          cp-0007.ckpt_temp_dd538da46ef748038b86d3cb47be7a7d\n",
      "02/20/2020  01:19 PM         4,953,360 cp-0008.ckpt.data-00000-of-00002\n",
      "02/20/2020  01:19 PM             3,769 cp-0008.ckpt.data-00001-of-00002\n",
      "02/20/2020  01:19 PM             2,067 cp-0008.ckpt.index\n",
      "02/20/2020  12:59 PM         4,953,360 cp-0010.ckpt.data-00000-of-00002\n",
      "02/20/2020  12:59 PM             3,769 cp-0010.ckpt.data-00001-of-00002\n",
      "02/20/2020  12:59 PM             2,067 cp-0010.ckpt.index\n",
      "02/20/2020  01:05 PM         4,953,360 cp-0015.ckpt.data-00000-of-00002\n",
      "02/20/2020  01:05 PM             3,769 cp-0015.ckpt.data-00001-of-00002\n",
      "02/20/2020  01:05 PM             2,067 cp-0015.ckpt.index\n",
      "02/19/2020  12:27 PM         4,884,624 cp-0020.ckpt.data-00000-of-00002\n",
      "02/19/2020  12:27 PM             2,064 cp-0020.ckpt.data-00001-of-00002\n",
      "02/19/2020  12:27 PM             1,219 cp-0020.ckpt.index\n",
      "02/19/2020  12:27 PM         4,884,624 cp-0025.ckpt.data-00000-of-00002\n",
      "02/19/2020  12:27 PM             2,064 cp-0025.ckpt.data-00001-of-00002\n",
      "02/19/2020  12:27 PM             1,219 cp-0025.ckpt.index\n",
      "02/19/2020  12:27 PM         4,884,624 cp-0030.ckpt.data-00000-of-00002\n",
      "02/19/2020  12:27 PM             2,064 cp-0030.ckpt.data-00001-of-00002\n",
      "02/19/2020  12:27 PM             1,219 cp-0030.ckpt.index\n",
      "02/19/2020  12:27 PM         4,884,624 cp-0035.ckpt.data-00000-of-00002\n",
      "02/19/2020  12:27 PM             2,064 cp-0035.ckpt.data-00001-of-00002\n",
      "02/19/2020  12:27 PM             1,219 cp-0035.ckpt.index\n",
      "02/19/2020  12:27 PM         4,884,624 cp-0040.ckpt.data-00000-of-00002\n",
      "02/19/2020  12:27 PM             2,064 cp-0040.ckpt.data-00001-of-00002\n",
      "02/19/2020  12:27 PM             1,219 cp-0040.ckpt.index\n",
      "02/19/2020  12:27 PM         4,884,624 cp-0045.ckpt.data-00000-of-00002\n",
      "02/19/2020  12:27 PM             2,064 cp-0045.ckpt.data-00001-of-00002\n",
      "02/19/2020  12:27 PM             1,219 cp-0045.ckpt.index\n",
      "02/19/2020  12:27 PM         4,884,624 cp-0050.ckpt.data-00000-of-00002\n",
      "02/19/2020  12:27 PM             2,064 cp-0050.ckpt.data-00001-of-00002\n",
      "02/19/2020  12:27 PM             1,219 cp-0050.ckpt.index\n",
      "02/19/2020  12:27 PM         4,884,624 cp-0055.ckpt.data-00000-of-00002\n",
      "02/19/2020  12:27 PM             2,064 cp-0055.ckpt.data-00001-of-00002\n",
      "02/19/2020  12:27 PM             1,219 cp-0055.ckpt.index\n",
      "02/19/2020  12:27 PM         4,884,624 cp-0060.ckpt.data-00000-of-00002\n",
      "02/19/2020  12:27 PM             2,064 cp-0060.ckpt.data-00001-of-00002\n",
      "02/19/2020  12:27 PM             1,219 cp-0060.ckpt.index\n",
      "02/19/2020  12:27 PM         4,884,624 cp-0065.ckpt.data-00000-of-00002\n",
      "02/19/2020  12:27 PM             2,064 cp-0065.ckpt.data-00001-of-00002\n",
      "02/19/2020  12:27 PM             1,219 cp-0065.ckpt.index\n",
      "02/19/2020  12:27 PM         4,884,624 cp-0070.ckpt.data-00000-of-00002\n",
      "02/19/2020  12:27 PM             2,064 cp-0070.ckpt.data-00001-of-00002\n",
      "02/19/2020  12:27 PM             1,219 cp-0070.ckpt.index\n",
      "02/19/2020  12:27 PM         4,884,624 cp-0075.ckpt.data-00000-of-00002\n",
      "02/19/2020  12:27 PM             2,064 cp-0075.ckpt.data-00001-of-00002\n",
      "02/19/2020  12:27 PM             1,219 cp-0075.ckpt.index\n",
      "02/19/2020  12:27 PM         4,884,624 cp-0080.ckpt.data-00000-of-00002\n",
      "02/19/2020  12:27 PM             2,064 cp-0080.ckpt.data-00001-of-00002\n",
      "02/19/2020  12:27 PM             1,219 cp-0080.ckpt.index\n",
      "02/19/2020  12:27 PM         4,884,624 cp-0085.ckpt.data-00000-of-00002\n",
      "02/19/2020  12:27 PM             2,064 cp-0085.ckpt.data-00001-of-00002\n",
      "02/19/2020  12:27 PM             1,219 cp-0085.ckpt.index\n",
      "02/19/2020  12:27 PM         4,884,624 cp-0090.ckpt.data-00000-of-00002\n",
      "02/19/2020  12:27 PM             2,064 cp-0090.ckpt.data-00001-of-00002\n",
      "02/19/2020  12:27 PM             1,219 cp-0090.ckpt.index\n",
      "02/19/2020  12:27 PM         4,884,624 cp-0095.ckpt.data-00000-of-00002\n",
      "02/19/2020  12:27 PM             2,064 cp-0095.ckpt.data-00001-of-00002\n",
      "02/19/2020  12:27 PM             1,219 cp-0095.ckpt.index\n",
      "02/19/2020  12:27 PM         4,884,624 cp-0100.ckpt.data-00000-of-00002\n",
      "02/19/2020  12:27 PM             2,064 cp-0100.ckpt.data-00001-of-00002\n",
      "02/19/2020  12:27 PM             1,219 cp-0100.ckpt.index\n",
      "              82 File(s)    132,686,460 bytes\n",
      "               3 Dir(s)  94,368,714,752 bytes free\n"
     ]
    }
   ],
   "source": [
    "!dir traiinig2\n"
   ]
  },
  {
   "cell_type": "code",
   "execution_count": 25,
   "metadata": {},
   "outputs": [
    {
     "data": {
      "text/plain": [
       "'traiinig2\\\\cp-0008.ckpt'"
      ]
     },
     "execution_count": 25,
     "metadata": {},
     "output_type": "execute_result"
    }
   ],
   "source": [
    "checkpoint_dir = os.path.dirname(checkpoint_path)\n",
    "latest = tf.train.latest_checkpoint(checkpoint_dir)\n",
    "latest"
   ]
  },
  {
   "cell_type": "code",
   "execution_count": 26,
   "metadata": {},
   "outputs": [
    {
     "name": "stdout",
     "output_type": "stream",
     "text": [
      "10000/10000 - 2s - loss: 0.0274 - acc: 0.9917\n",
      "Restored model, accuracy: 99.17%\n"
     ]
    }
   ],
   "source": [
    "# Create a new model instance\n",
    "model = create_model()\n",
    "\n",
    "# Load the previously saved weights\n",
    "model.load_weights(latest)\n",
    "\n",
    "# Re-evaluate the model\n",
    "loss, acc = model.evaluate(test_images,  test_labels, verbose=2)\n",
    "print(\"Restored model, accuracy: {:5.2f}%\".format(100*acc))"
   ]
  },
  {
   "cell_type": "markdown",
   "metadata": {},
   "source": [
    "## https://www.tensorflow.org/tutorials/keras/save_and_load#setup"
   ]
  },
  {
   "cell_type": "code",
   "execution_count": null,
   "metadata": {},
   "outputs": [],
   "source": []
  }
 ],
 "metadata": {
  "kernelspec": {
   "display_name": "Python 3",
   "language": "python",
   "name": "python3"
  },
  "language_info": {
   "codemirror_mode": {
    "name": "ipython",
    "version": 3
   },
   "file_extension": ".py",
   "mimetype": "text/x-python",
   "name": "python",
   "nbconvert_exporter": "python",
   "pygments_lexer": "ipython3",
   "version": "3.7.3"
  }
 },
 "nbformat": 4,
 "nbformat_minor": 2
}
